{
  "nbformat": 4,
  "nbformat_minor": 0,
  "metadata": {
    "colab": {
      "provenance": []
    },
    "kernelspec": {
      "name": "python3",
      "display_name": "Python 3"
    },
    "language_info": {
      "name": "python"
    }
  },
  "cells": [
    {
      "cell_type": "markdown",
      "source": [
        "# DATA608 - Story 3"
      ],
      "metadata": {
        "id": "BBu7K36OA0g4"
      }
    },
    {
      "cell_type": "markdown",
      "source": [
        "## Prompt:\n",
        "\n",
        "The CDC publishes firearm mortality for each State per 100,000 persons https://www.cdc.gov/nchs/pressroom/sosmap/firearm_mortality/firearm.htm. Each State' firearm control laws can be categorized as very strict to very lax. The purpose of this Story is to answer the question, \" Do stricter firearm control laws help reduce firearm mortality?\"\n",
        "For this assignment you will need to:\n",
        "- Access the firearm mortality data from the CDC using an available API ( https://open.cdc.gov/apis.html)\n",
        "- Create a 5 point Likert scale categorizing gun control laws from most lax to strictest and assign each state to the most appropriate Likert bin.\n",
        "- Determine wether stricter gun control laws result in reduced gun violence deaths\n",
        "- Present your story using  heat maps\n",
        "\n",
        "#### Notes:\n",
        "\t1. You may not use the same desktop application that you have used for a previous story.\n",
        "\t2. If you use color in your visuals you must use an accessible color palette.\n"
      ],
      "metadata": {
        "id": "dGSUNdFWA5wP"
      }
    },
    {
      "cell_type": "markdown",
      "source": [
        "## Hypotheses\n",
        "\n",
        "Null Hypothesis (H0): There is no correlation between gun law strength and firearm death rate.\n",
        "\n",
        "Alternative Hypothesis (H1): There is a correlation between gun law strength and firearm death rate.\n"
      ],
      "metadata": {
        "id": "X3zAtuko0Z83"
      }
    },
    {
      "cell_type": "markdown",
      "source": [
        "## 1. Installing Packages"
      ],
      "metadata": {
        "id": "mXNBcp25Bpn9"
      }
    },
    {
      "cell_type": "code",
      "source": [
        "import pandas as pd\n",
        "from matplotlib import pyplot as plt\n",
        "import seaborn as sns\n",
        "from scipy.stats import pearsonr\n",
        "\n",
        "\n",
        "\n",
        "url = \"https://raw.githubusercontent.com/rkasa01/DATA608_Story_3/main/data-table.csv\"\n",
        "\n",
        "df = pd.read_csv(url)\n",
        "\n",
        "print(df.head())\n"
      ],
      "metadata": {
        "colab": {
          "base_uri": "https://localhost:8080/"
        },
        "id": "ycZGHWD5AosE",
        "outputId": "3fec12d4-e304-4694-f5c5-9c65f466cc03"
      },
      "execution_count": 2,
      "outputs": [
        {
          "output_type": "stream",
          "name": "stdout",
          "text": [
            "   YEAR STATE  RATE  DEATHS                                       URL\n",
            "0  2021    AL  26.4    1315     /nchs/pressroom/states/alabama/al.htm\n",
            "1  2021    AK  25.2     182      /nchs/pressroom/states/alaska/ak.htm\n",
            "2  2021    AZ  18.3    1365     /nchs/pressroom/states/arizona/az.htm\n",
            "3  2021    AR  23.3     698    /nchs/pressroom/states/arkansas/ar.htm\n",
            "4  2021    CA   9.0    3576  /nchs/pressroom/states/california/ca.htm\n"
          ]
        }
      ]
    },
    {
      "cell_type": "markdown",
      "source": [
        "For the purposes of this assignment, I decided to work with Python instead of R to change the application which I used from my previous story. In order to address the question of whether or not stricter firearm control laws correlate to a reduction in firearm mortality, I started by first uploading the firearm mortality data from the CDC to Github as a CSV file. I extracted the data from the raw data link after importing pandas. I then printed the first few rows of the dataframe so that we could take a better look at the data. We can see that this dataframe includes the year value, the age-adjusted death rates per 100,000 as based on the total population, the number of deaths, and the URL."
      ],
      "metadata": {
        "id": "88kM3xZPBK1H"
      }
    },
    {
      "cell_type": "markdown",
      "source": [
        "## 2. Data Exploration"
      ],
      "metadata": {
        "id": "cWhBvsNlDL1q"
      }
    },
    {
      "cell_type": "markdown",
      "source": [
        "#### 2.1 Dataframe Information"
      ],
      "metadata": {
        "id": "6rCfnwjVHxEl"
      }
    },
    {
      "cell_type": "code",
      "source": [
        "print(\"DataFrame Information:\")\n",
        "print(df.info())"
      ],
      "metadata": {
        "colab": {
          "base_uri": "https://localhost:8080/"
        },
        "id": "TFdURe26DLiG",
        "outputId": "5387824a-7ede-410f-8600-5863cf5f17af"
      },
      "execution_count": 3,
      "outputs": [
        {
          "output_type": "stream",
          "name": "stdout",
          "text": [
            "DataFrame Information:\n",
            "<class 'pandas.core.frame.DataFrame'>\n",
            "RangeIndex: 450 entries, 0 to 449\n",
            "Data columns (total 5 columns):\n",
            " #   Column  Non-Null Count  Dtype  \n",
            "---  ------  --------------  -----  \n",
            " 0   YEAR    450 non-null    int64  \n",
            " 1   STATE   450 non-null    object \n",
            " 2   RATE    450 non-null    float64\n",
            " 3   DEATHS  450 non-null    int64  \n",
            " 4   URL     450 non-null    object \n",
            "dtypes: float64(1), int64(2), object(2)\n",
            "memory usage: 17.7+ KB\n",
            "None\n"
          ]
        }
      ]
    },
    {
      "cell_type": "markdown",
      "source": [
        "I wanted to start by printing some basic information about the dataframe. We can see that there are a total of 450 entries. The 'YEAR' column is of integer type, labeling each specific year for each data point, the 'STATE' column is of object type, containing the state abbreviations, the 'RATE' column is of float type, indicating the firearm mortality rate per 100,000 persons, the 'DEATHS' column is an integer column, signifying the total number of firearm-related deaths, and the 'URL' column, of object type, contains URLs related to each entry.\n",
        "\n",
        "The dataset appears to be clean, containing no missing values in any of the columns. This means that we can continue to perform further analysis, checking for any insights into trends and potential correlations between firearm mortality rates and other factors such as state-specific gun control laws."
      ],
      "metadata": {
        "id": "JyF-0t6uEJ5J"
      }
    },
    {
      "cell_type": "markdown",
      "source": [
        "#### 2.2 Summary Statistics"
      ],
      "metadata": {
        "id": "si2-7ekjH6aD"
      }
    },
    {
      "cell_type": "code",
      "source": [
        "print(\"\\nSummary Statistics:\")\n",
        "print(df.describe())"
      ],
      "metadata": {
        "colab": {
          "base_uri": "https://localhost:8080/"
        },
        "id": "-9fwu0d4DbC5",
        "outputId": "41bb58b8-4175-40b3-c233-5f5caca9ba1b"
      },
      "execution_count": 4,
      "outputs": [
        {
          "output_type": "stream",
          "name": "stdout",
          "text": [
            "\n",
            "Summary Statistics:\n",
            "              YEAR        RATE       DEATHS\n",
            "count   450.000000  450.000000   450.000000\n",
            "mean   2016.111111   13.285778   780.633333\n",
            "std       4.488154    5.465712   766.413750\n",
            "min    2005.000000    2.100000    28.000000\n",
            "25%    2015.000000   10.000000   206.000000\n",
            "50%    2017.000000   12.850000   573.000000\n",
            "75%    2019.000000   16.800000  1064.000000\n",
            "max    2021.000000   33.900000  4613.000000\n"
          ]
        }
      ]
    },
    {
      "cell_type": "markdown",
      "source": [
        "The summary statistics give an overview of the dataset's attributes. We can see here that the'YEAR' column ranges from 2005-2021. The 'RATE' column, representing firearm mortality rates, has a mean of 13.29, ranging from 2.1-33.9. The 'DEATHS' column, representing yearly firearm related deaths,has a mean of 780.63, with a range of 28-4613. The interquartile range, which informs us about the distribution, has 25% of the data below 206 deaths, 50% below 573 deaths, and 75% below 1064 deaths.\n",
        "\n",
        "These summary statistics give us a deep understanding of the dataset's central tendencies and variability, both of which we will need for subsequent further analyses and data visualizations."
      ],
      "metadata": {
        "id": "SFaCxddZIY3-"
      }
    },
    {
      "cell_type": "markdown",
      "source": [
        "## 3. Categorizing Gun Control Laws"
      ],
      "metadata": {
        "id": "5R0vsdW3YlsP"
      }
    },
    {
      "cell_type": "markdown",
      "source": [
        "In order to categorize gun control laws on a 5-point Likert scale, we will use a scale from most lax to srictest gun control laws. States with minimal restrictions on firearm ownership are categorized as \"Very Lax\", those with moderate restrictions, and potential waiting periods which still perform a background check are \"Lax\", those with balanced regulations are \"Moderate\", whereas \"Strict\" states include extensive background checks, with limitations on certain firearms, and lastly those with the highest level of restrictions, limited access, and strict limitations, are \"Very Strict\". To reiterate, the scale from very lax to very strict is as follows: \"Very Lax\", \"Lax\", \"Moderate\", \"Strict\", \"Very Strict\". This scale enables us to assess the strictness of each state's gun control laws."
      ],
      "metadata": {
        "id": "Y0hhj2JUYrQw"
      }
    },
    {
      "cell_type": "markdown",
      "source": [
        "#### 3.1 Importing Everytown Gun Law Ranking"
      ],
      "metadata": {
        "id": "nUxzfBg_f6Ok"
      }
    },
    {
      "cell_type": "code",
      "source": [
        "url2 = \"https://raw.githubusercontent.com/rkasa01/DATA608_Story_3/main/Everytown-gun-laws-save-lives.csv\"\n",
        "\n",
        "gunlawdf = pd.read_csv(url2)\n",
        "print(gunlawdf.head())\n",
        "\n",
        "gunlawdf.info()"
      ],
      "metadata": {
        "colab": {
          "base_uri": "https://localhost:8080/"
        },
        "id": "10kDSLR1gfA_",
        "outputId": "34f8083c-73d2-40d7-b83b-9b0481c01911"
      },
      "execution_count": 5,
      "outputs": [
        {
          "output_type": "stream",
          "name": "stdout",
          "text": [
            "  Series Label  Strength of Gun Laws (out of 100 points)  \\\n",
            "0  State    MS                                       3.0   \n",
            "1  State    LA                                      20.5   \n",
            "2  State    NM                                      40.5   \n",
            "3  State    AL                                      12.5   \n",
            "4  State    MT                                       5.0   \n",
            "\n",
            "   Gun Deaths per 100,000 Residents  \n",
            "0                              29.7  \n",
            "1                              28.2  \n",
            "2                              27.5  \n",
            "3                              25.9  \n",
            "4                              24.5  \n",
            "<class 'pandas.core.frame.DataFrame'>\n",
            "RangeIndex: 50 entries, 0 to 49\n",
            "Data columns (total 4 columns):\n",
            " #   Column                                    Non-Null Count  Dtype  \n",
            "---  ------                                    --------------  -----  \n",
            " 0   Series                                    50 non-null     object \n",
            " 1   Label                                     50 non-null     object \n",
            " 2   Strength of Gun Laws (out of 100 points)  50 non-null     float64\n",
            " 3   Gun Deaths per 100,000 Residents          50 non-null     float64\n",
            "dtypes: float64(2), object(2)\n",
            "memory usage: 1.7+ KB\n"
          ]
        }
      ]
    },
    {
      "cell_type": "markdown",
      "source": [
        "I started by importing the Everytown Gun Law Ranking dataset to Github (soure: https://everytownresearch.org/rankings/methodology/). I read the raw data link and printed the first few rows of the dataframe. This dataet incudes variables such as the State label, gun law strength, and gun deaths per 100,000 residents."
      ],
      "metadata": {
        "id": "objMqTclgiBr"
      }
    },
    {
      "cell_type": "markdown",
      "source": [
        "### 3.2 Establishing Likert Scale"
      ],
      "metadata": {
        "id": "7EH_CzPKg6Vz"
      }
    },
    {
      "cell_type": "code",
      "source": [
        "df = df[df['YEAR'] == 2021]\n",
        "\n",
        "print(df.head())\n",
        "\n",
        "def map_to_likert(score):\n",
        "    if score <= 19:\n",
        "        return \"Very Lax\"\n",
        "    elif score <= 39:\n",
        "        return \"Lax\"\n",
        "    elif score <= 59:\n",
        "        return \"Moderate\"\n",
        "    elif score <= 79:\n",
        "        return \"Strict\"\n",
        "    else:\n",
        "        return \"Very Strict\"\n",
        "\n",
        "gunlawdf['Likert Category'] = gunlawdf['Strength of Gun Laws (out of 100 points)'].apply(map_to_likert)\n",
        "\n",
        "print(gunlawdf[['Label', 'Strength of Gun Laws (out of 100 points)', 'Likert Category']].head())\n"
      ],
      "metadata": {
        "colab": {
          "base_uri": "https://localhost:8080/"
        },
        "id": "TenytjEPg3CK",
        "outputId": "d3343ff7-e038-4e53-8564-0deb977eedc0"
      },
      "execution_count": 6,
      "outputs": [
        {
          "output_type": "stream",
          "name": "stdout",
          "text": [
            "   YEAR STATE  RATE  DEATHS                                       URL\n",
            "0  2021    AL  26.4    1315     /nchs/pressroom/states/alabama/al.htm\n",
            "1  2021    AK  25.2     182      /nchs/pressroom/states/alaska/ak.htm\n",
            "2  2021    AZ  18.3    1365     /nchs/pressroom/states/arizona/az.htm\n",
            "3  2021    AR  23.3     698    /nchs/pressroom/states/arkansas/ar.htm\n",
            "4  2021    CA   9.0    3576  /nchs/pressroom/states/california/ca.htm\n",
            "  Label  Strength of Gun Laws (out of 100 points) Likert Category\n",
            "0    MS                                       3.0        Very Lax\n",
            "1    LA                                      20.5             Lax\n",
            "2    NM                                      40.5        Moderate\n",
            "3    AL                                      12.5        Very Lax\n",
            "4    MT                                       5.0        Very Lax\n"
          ]
        }
      ]
    },
    {
      "cell_type": "markdown",
      "source": [
        "Because the Everytown dataset ranks each state out of 100, I decided to split the score evenly into the five aforementioned categories, such that every increase in 20 points corerlates to an increase in the Likert cetegories. To demonstrate, an Everytrown score of 0-19 would correlate with \"Very Lax\", 20-39 with \"Lax\", 40-59 with \"Moderate\", 60-79 with \"Strict\", and 80-100 with \"Very Strict\". Here I have also printed out the dataframe with the new category label. To focus on the most recent firearm death related data, I filtered out the data to include only 2021."
      ],
      "metadata": {
        "id": "PckUxydWktl2"
      }
    },
    {
      "cell_type": "markdown",
      "source": [
        "\n",
        "#### 3.3 Merging Datasets\n",
        "\n",
        "Before starting the data analysis, the two datasets must first be merged."
      ],
      "metadata": {
        "id": "Fe6YBK98qqEq"
      }
    },
    {
      "cell_type": "code",
      "source": [
        "merged_df = pd.merge(df, gunlawdf, left_on='STATE', right_on='Label', how='inner')\n",
        "\n",
        "merged_df.head()"
      ],
      "metadata": {
        "colab": {
          "base_uri": "https://localhost:8080/",
          "height": 258
        },
        "id": "_-8OvafdqoGM",
        "outputId": "234f07a0-c59d-480c-e0bc-a681f02c650a"
      },
      "execution_count": 7,
      "outputs": [
        {
          "output_type": "execute_result",
          "data": {
            "text/plain": [
              "   YEAR STATE  RATE  DEATHS                                       URL Series  \\\n",
              "0  2021    AL  26.4    1315     /nchs/pressroom/states/alabama/al.htm  State   \n",
              "1  2021    AK  25.2     182      /nchs/pressroom/states/alaska/ak.htm  State   \n",
              "2  2021    AZ  18.3    1365     /nchs/pressroom/states/arizona/az.htm  State   \n",
              "3  2021    AR  23.3     698    /nchs/pressroom/states/arkansas/ar.htm  State   \n",
              "4  2021    CA   9.0    3576  /nchs/pressroom/states/california/ca.htm  State   \n",
              "\n",
              "  Label  Strength of Gun Laws (out of 100 points)  \\\n",
              "0    AL                                      12.5   \n",
              "1    AK                                       9.0   \n",
              "2    AZ                                       8.5   \n",
              "3    AR                                       3.0   \n",
              "4    CA                                      89.5   \n",
              "\n",
              "   Gun Deaths per 100,000 Residents Likert Category  \n",
              "0                              25.9        Very Lax  \n",
              "1                              22.7        Very Lax  \n",
              "2                              20.5        Very Lax  \n",
              "3                              22.1        Very Lax  \n",
              "4                               8.7     Very Strict  "
            ],
            "text/html": [
              "\n",
              "  <div id=\"df-4e202856-4f09-47bd-80fb-44f9eb86436b\" class=\"colab-df-container\">\n",
              "    <div>\n",
              "<style scoped>\n",
              "    .dataframe tbody tr th:only-of-type {\n",
              "        vertical-align: middle;\n",
              "    }\n",
              "\n",
              "    .dataframe tbody tr th {\n",
              "        vertical-align: top;\n",
              "    }\n",
              "\n",
              "    .dataframe thead th {\n",
              "        text-align: right;\n",
              "    }\n",
              "</style>\n",
              "<table border=\"1\" class=\"dataframe\">\n",
              "  <thead>\n",
              "    <tr style=\"text-align: right;\">\n",
              "      <th></th>\n",
              "      <th>YEAR</th>\n",
              "      <th>STATE</th>\n",
              "      <th>RATE</th>\n",
              "      <th>DEATHS</th>\n",
              "      <th>URL</th>\n",
              "      <th>Series</th>\n",
              "      <th>Label</th>\n",
              "      <th>Strength of Gun Laws (out of 100 points)</th>\n",
              "      <th>Gun Deaths per 100,000 Residents</th>\n",
              "      <th>Likert Category</th>\n",
              "    </tr>\n",
              "  </thead>\n",
              "  <tbody>\n",
              "    <tr>\n",
              "      <th>0</th>\n",
              "      <td>2021</td>\n",
              "      <td>AL</td>\n",
              "      <td>26.4</td>\n",
              "      <td>1315</td>\n",
              "      <td>/nchs/pressroom/states/alabama/al.htm</td>\n",
              "      <td>State</td>\n",
              "      <td>AL</td>\n",
              "      <td>12.5</td>\n",
              "      <td>25.9</td>\n",
              "      <td>Very Lax</td>\n",
              "    </tr>\n",
              "    <tr>\n",
              "      <th>1</th>\n",
              "      <td>2021</td>\n",
              "      <td>AK</td>\n",
              "      <td>25.2</td>\n",
              "      <td>182</td>\n",
              "      <td>/nchs/pressroom/states/alaska/ak.htm</td>\n",
              "      <td>State</td>\n",
              "      <td>AK</td>\n",
              "      <td>9.0</td>\n",
              "      <td>22.7</td>\n",
              "      <td>Very Lax</td>\n",
              "    </tr>\n",
              "    <tr>\n",
              "      <th>2</th>\n",
              "      <td>2021</td>\n",
              "      <td>AZ</td>\n",
              "      <td>18.3</td>\n",
              "      <td>1365</td>\n",
              "      <td>/nchs/pressroom/states/arizona/az.htm</td>\n",
              "      <td>State</td>\n",
              "      <td>AZ</td>\n",
              "      <td>8.5</td>\n",
              "      <td>20.5</td>\n",
              "      <td>Very Lax</td>\n",
              "    </tr>\n",
              "    <tr>\n",
              "      <th>3</th>\n",
              "      <td>2021</td>\n",
              "      <td>AR</td>\n",
              "      <td>23.3</td>\n",
              "      <td>698</td>\n",
              "      <td>/nchs/pressroom/states/arkansas/ar.htm</td>\n",
              "      <td>State</td>\n",
              "      <td>AR</td>\n",
              "      <td>3.0</td>\n",
              "      <td>22.1</td>\n",
              "      <td>Very Lax</td>\n",
              "    </tr>\n",
              "    <tr>\n",
              "      <th>4</th>\n",
              "      <td>2021</td>\n",
              "      <td>CA</td>\n",
              "      <td>9.0</td>\n",
              "      <td>3576</td>\n",
              "      <td>/nchs/pressroom/states/california/ca.htm</td>\n",
              "      <td>State</td>\n",
              "      <td>CA</td>\n",
              "      <td>89.5</td>\n",
              "      <td>8.7</td>\n",
              "      <td>Very Strict</td>\n",
              "    </tr>\n",
              "  </tbody>\n",
              "</table>\n",
              "</div>\n",
              "    <div class=\"colab-df-buttons\">\n",
              "\n",
              "  <div class=\"colab-df-container\">\n",
              "    <button class=\"colab-df-convert\" onclick=\"convertToInteractive('df-4e202856-4f09-47bd-80fb-44f9eb86436b')\"\n",
              "            title=\"Convert this dataframe to an interactive table.\"\n",
              "            style=\"display:none;\">\n",
              "\n",
              "  <svg xmlns=\"http://www.w3.org/2000/svg\" height=\"24px\" viewBox=\"0 -960 960 960\">\n",
              "    <path d=\"M120-120v-720h720v720H120Zm60-500h600v-160H180v160Zm220 220h160v-160H400v160Zm0 220h160v-160H400v160ZM180-400h160v-160H180v160Zm440 0h160v-160H620v160ZM180-180h160v-160H180v160Zm440 0h160v-160H620v160Z\"/>\n",
              "  </svg>\n",
              "    </button>\n",
              "\n",
              "  <style>\n",
              "    .colab-df-container {\n",
              "      display:flex;\n",
              "      gap: 12px;\n",
              "    }\n",
              "\n",
              "    .colab-df-convert {\n",
              "      background-color: #E8F0FE;\n",
              "      border: none;\n",
              "      border-radius: 50%;\n",
              "      cursor: pointer;\n",
              "      display: none;\n",
              "      fill: #1967D2;\n",
              "      height: 32px;\n",
              "      padding: 0 0 0 0;\n",
              "      width: 32px;\n",
              "    }\n",
              "\n",
              "    .colab-df-convert:hover {\n",
              "      background-color: #E2EBFA;\n",
              "      box-shadow: 0px 1px 2px rgba(60, 64, 67, 0.3), 0px 1px 3px 1px rgba(60, 64, 67, 0.15);\n",
              "      fill: #174EA6;\n",
              "    }\n",
              "\n",
              "    .colab-df-buttons div {\n",
              "      margin-bottom: 4px;\n",
              "    }\n",
              "\n",
              "    [theme=dark] .colab-df-convert {\n",
              "      background-color: #3B4455;\n",
              "      fill: #D2E3FC;\n",
              "    }\n",
              "\n",
              "    [theme=dark] .colab-df-convert:hover {\n",
              "      background-color: #434B5C;\n",
              "      box-shadow: 0px 1px 3px 1px rgba(0, 0, 0, 0.15);\n",
              "      filter: drop-shadow(0px 1px 2px rgba(0, 0, 0, 0.3));\n",
              "      fill: #FFFFFF;\n",
              "    }\n",
              "  </style>\n",
              "\n",
              "    <script>\n",
              "      const buttonEl =\n",
              "        document.querySelector('#df-4e202856-4f09-47bd-80fb-44f9eb86436b button.colab-df-convert');\n",
              "      buttonEl.style.display =\n",
              "        google.colab.kernel.accessAllowed ? 'block' : 'none';\n",
              "\n",
              "      async function convertToInteractive(key) {\n",
              "        const element = document.querySelector('#df-4e202856-4f09-47bd-80fb-44f9eb86436b');\n",
              "        const dataTable =\n",
              "          await google.colab.kernel.invokeFunction('convertToInteractive',\n",
              "                                                    [key], {});\n",
              "        if (!dataTable) return;\n",
              "\n",
              "        const docLinkHtml = 'Like what you see? Visit the ' +\n",
              "          '<a target=\"_blank\" href=https://colab.research.google.com/notebooks/data_table.ipynb>data table notebook</a>'\n",
              "          + ' to learn more about interactive tables.';\n",
              "        element.innerHTML = '';\n",
              "        dataTable['output_type'] = 'display_data';\n",
              "        await google.colab.output.renderOutput(dataTable, element);\n",
              "        const docLink = document.createElement('div');\n",
              "        docLink.innerHTML = docLinkHtml;\n",
              "        element.appendChild(docLink);\n",
              "      }\n",
              "    </script>\n",
              "  </div>\n",
              "\n",
              "\n",
              "<div id=\"df-d163d06b-4c8c-4acf-a848-7a79b20c4202\">\n",
              "  <button class=\"colab-df-quickchart\" onclick=\"quickchart('df-d163d06b-4c8c-4acf-a848-7a79b20c4202')\"\n",
              "            title=\"Suggest charts\"\n",
              "            style=\"display:none;\">\n",
              "\n",
              "<svg xmlns=\"http://www.w3.org/2000/svg\" height=\"24px\"viewBox=\"0 0 24 24\"\n",
              "     width=\"24px\">\n",
              "    <g>\n",
              "        <path d=\"M19 3H5c-1.1 0-2 .9-2 2v14c0 1.1.9 2 2 2h14c1.1 0 2-.9 2-2V5c0-1.1-.9-2-2-2zM9 17H7v-7h2v7zm4 0h-2V7h2v10zm4 0h-2v-4h2v4z\"/>\n",
              "    </g>\n",
              "</svg>\n",
              "  </button>\n",
              "\n",
              "<style>\n",
              "  .colab-df-quickchart {\n",
              "      --bg-color: #E8F0FE;\n",
              "      --fill-color: #1967D2;\n",
              "      --hover-bg-color: #E2EBFA;\n",
              "      --hover-fill-color: #174EA6;\n",
              "      --disabled-fill-color: #AAA;\n",
              "      --disabled-bg-color: #DDD;\n",
              "  }\n",
              "\n",
              "  [theme=dark] .colab-df-quickchart {\n",
              "      --bg-color: #3B4455;\n",
              "      --fill-color: #D2E3FC;\n",
              "      --hover-bg-color: #434B5C;\n",
              "      --hover-fill-color: #FFFFFF;\n",
              "      --disabled-bg-color: #3B4455;\n",
              "      --disabled-fill-color: #666;\n",
              "  }\n",
              "\n",
              "  .colab-df-quickchart {\n",
              "    background-color: var(--bg-color);\n",
              "    border: none;\n",
              "    border-radius: 50%;\n",
              "    cursor: pointer;\n",
              "    display: none;\n",
              "    fill: var(--fill-color);\n",
              "    height: 32px;\n",
              "    padding: 0;\n",
              "    width: 32px;\n",
              "  }\n",
              "\n",
              "  .colab-df-quickchart:hover {\n",
              "    background-color: var(--hover-bg-color);\n",
              "    box-shadow: 0 1px 2px rgba(60, 64, 67, 0.3), 0 1px 3px 1px rgba(60, 64, 67, 0.15);\n",
              "    fill: var(--button-hover-fill-color);\n",
              "  }\n",
              "\n",
              "  .colab-df-quickchart-complete:disabled,\n",
              "  .colab-df-quickchart-complete:disabled:hover {\n",
              "    background-color: var(--disabled-bg-color);\n",
              "    fill: var(--disabled-fill-color);\n",
              "    box-shadow: none;\n",
              "  }\n",
              "\n",
              "  .colab-df-spinner {\n",
              "    border: 2px solid var(--fill-color);\n",
              "    border-color: transparent;\n",
              "    border-bottom-color: var(--fill-color);\n",
              "    animation:\n",
              "      spin 1s steps(1) infinite;\n",
              "  }\n",
              "\n",
              "  @keyframes spin {\n",
              "    0% {\n",
              "      border-color: transparent;\n",
              "      border-bottom-color: var(--fill-color);\n",
              "      border-left-color: var(--fill-color);\n",
              "    }\n",
              "    20% {\n",
              "      border-color: transparent;\n",
              "      border-left-color: var(--fill-color);\n",
              "      border-top-color: var(--fill-color);\n",
              "    }\n",
              "    30% {\n",
              "      border-color: transparent;\n",
              "      border-left-color: var(--fill-color);\n",
              "      border-top-color: var(--fill-color);\n",
              "      border-right-color: var(--fill-color);\n",
              "    }\n",
              "    40% {\n",
              "      border-color: transparent;\n",
              "      border-right-color: var(--fill-color);\n",
              "      border-top-color: var(--fill-color);\n",
              "    }\n",
              "    60% {\n",
              "      border-color: transparent;\n",
              "      border-right-color: var(--fill-color);\n",
              "    }\n",
              "    80% {\n",
              "      border-color: transparent;\n",
              "      border-right-color: var(--fill-color);\n",
              "      border-bottom-color: var(--fill-color);\n",
              "    }\n",
              "    90% {\n",
              "      border-color: transparent;\n",
              "      border-bottom-color: var(--fill-color);\n",
              "    }\n",
              "  }\n",
              "</style>\n",
              "\n",
              "  <script>\n",
              "    async function quickchart(key) {\n",
              "      const quickchartButtonEl =\n",
              "        document.querySelector('#' + key + ' button');\n",
              "      quickchartButtonEl.disabled = true;  // To prevent multiple clicks.\n",
              "      quickchartButtonEl.classList.add('colab-df-spinner');\n",
              "      try {\n",
              "        const charts = await google.colab.kernel.invokeFunction(\n",
              "            'suggestCharts', [key], {});\n",
              "      } catch (error) {\n",
              "        console.error('Error during call to suggestCharts:', error);\n",
              "      }\n",
              "      quickchartButtonEl.classList.remove('colab-df-spinner');\n",
              "      quickchartButtonEl.classList.add('colab-df-quickchart-complete');\n",
              "    }\n",
              "    (() => {\n",
              "      let quickchartButtonEl =\n",
              "        document.querySelector('#df-d163d06b-4c8c-4acf-a848-7a79b20c4202 button');\n",
              "      quickchartButtonEl.style.display =\n",
              "        google.colab.kernel.accessAllowed ? 'block' : 'none';\n",
              "    })();\n",
              "  </script>\n",
              "</div>\n",
              "    </div>\n",
              "  </div>\n"
            ],
            "application/vnd.google.colaboratory.intrinsic+json": {
              "type": "dataframe",
              "variable_name": "merged_df",
              "summary": "{\n  \"name\": \"merged_df\",\n  \"rows\": 50,\n  \"fields\": [\n    {\n      \"column\": \"YEAR\",\n      \"properties\": {\n        \"dtype\": \"number\",\n        \"std\": 0,\n        \"min\": 2021,\n        \"max\": 2021,\n        \"num_unique_values\": 1,\n        \"samples\": [\n          2021\n        ],\n        \"semantic_type\": \"\",\n        \"description\": \"\"\n      }\n    },\n    {\n      \"column\": \"STATE\",\n      \"properties\": {\n        \"dtype\": \"string\",\n        \"num_unique_values\": 50,\n        \"samples\": [\n          \"IN\"\n        ],\n        \"semantic_type\": \"\",\n        \"description\": \"\"\n      }\n    },\n    {\n      \"column\": \"RATE\",\n      \"properties\": {\n        \"dtype\": \"number\",\n        \"std\": 6.827854116538716,\n        \"min\": 3.4,\n        \"max\": 33.9,\n        \"num_unique_values\": 46,\n        \"samples\": [\n          14.3\n        ],\n        \"semantic_type\": \"\",\n        \"description\": \"\"\n      }\n    },\n    {\n      \"column\": \"DEATHS\",\n      \"properties\": {\n        \"dtype\": \"number\",\n        \"std\": 938,\n        \"min\": 64,\n        \"max\": 4613,\n        \"num_unique_values\": 49,\n        \"samples\": [\n          1251\n        ],\n        \"semantic_type\": \"\",\n        \"description\": \"\"\n      }\n    },\n    {\n      \"column\": \"URL\",\n      \"properties\": {\n        \"dtype\": \"string\",\n        \"num_unique_values\": 50,\n        \"samples\": [\n          \"/nchs/pressroom/states/indiana/in.htm\"\n        ],\n        \"semantic_type\": \"\",\n        \"description\": \"\"\n      }\n    },\n    {\n      \"column\": \"Series\",\n      \"properties\": {\n        \"dtype\": \"category\",\n        \"num_unique_values\": 1,\n        \"samples\": [\n          \"State\"\n        ],\n        \"semantic_type\": \"\",\n        \"description\": \"\"\n      }\n    },\n    {\n      \"column\": \"Label\",\n      \"properties\": {\n        \"dtype\": \"string\",\n        \"num_unique_values\": 50,\n        \"samples\": [\n          \"IN\"\n        ],\n        \"semantic_type\": \"\",\n        \"description\": \"\"\n      }\n    },\n    {\n      \"column\": \"Strength of Gun Laws (out of 100 points)\",\n      \"properties\": {\n        \"dtype\": \"number\",\n        \"std\": 28.064895641119683,\n        \"min\": 3.0,\n        \"max\": 89.5,\n        \"num_unique_values\": 39,\n        \"samples\": [\n          39.5\n        ],\n        \"semantic_type\": \"\",\n        \"description\": \"\"\n      }\n    },\n    {\n      \"column\": \"Gun Deaths per 100,000 Residents\",\n      \"properties\": {\n        \"dtype\": \"number\",\n        \"std\": 6.315140213674384,\n        \"min\": 3.1,\n        \"max\": 29.7,\n        \"num_unique_values\": 47,\n        \"samples\": [\n          10.3\n        ],\n        \"semantic_type\": \"\",\n        \"description\": \"\"\n      }\n    },\n    {\n      \"column\": \"Likert Category\",\n      \"properties\": {\n        \"dtype\": \"category\",\n        \"num_unique_values\": 5,\n        \"samples\": [\n          \"Very Strict\"\n        ],\n        \"semantic_type\": \"\",\n        \"description\": \"\"\n      }\n    }\n  ]\n}"
            }
          },
          "metadata": {},
          "execution_count": 7
        }
      ]
    },
    {
      "cell_type": "code",
      "source": [
        "columns_to_remove = ['URL', 'YEAR', 'Series', 'Label']\n",
        "merged_df = merged_df.drop(columns=columns_to_remove, errors='ignore', axis=1)\n",
        "\n",
        "merged_df.head()"
      ],
      "metadata": {
        "colab": {
          "base_uri": "https://localhost:8080/",
          "height": 206
        },
        "id": "mt7kC03drYtZ",
        "outputId": "568470bd-bdca-4915-96e4-35374a2f16aa"
      },
      "execution_count": 8,
      "outputs": [
        {
          "output_type": "execute_result",
          "data": {
            "text/plain": [
              "  STATE  RATE  DEATHS  Strength of Gun Laws (out of 100 points)  \\\n",
              "0    AL  26.4    1315                                      12.5   \n",
              "1    AK  25.2     182                                       9.0   \n",
              "2    AZ  18.3    1365                                       8.5   \n",
              "3    AR  23.3     698                                       3.0   \n",
              "4    CA   9.0    3576                                      89.5   \n",
              "\n",
              "   Gun Deaths per 100,000 Residents Likert Category  \n",
              "0                              25.9        Very Lax  \n",
              "1                              22.7        Very Lax  \n",
              "2                              20.5        Very Lax  \n",
              "3                              22.1        Very Lax  \n",
              "4                               8.7     Very Strict  "
            ],
            "text/html": [
              "\n",
              "  <div id=\"df-70235421-0520-49a6-8d02-bcbe47b53037\" class=\"colab-df-container\">\n",
              "    <div>\n",
              "<style scoped>\n",
              "    .dataframe tbody tr th:only-of-type {\n",
              "        vertical-align: middle;\n",
              "    }\n",
              "\n",
              "    .dataframe tbody tr th {\n",
              "        vertical-align: top;\n",
              "    }\n",
              "\n",
              "    .dataframe thead th {\n",
              "        text-align: right;\n",
              "    }\n",
              "</style>\n",
              "<table border=\"1\" class=\"dataframe\">\n",
              "  <thead>\n",
              "    <tr style=\"text-align: right;\">\n",
              "      <th></th>\n",
              "      <th>STATE</th>\n",
              "      <th>RATE</th>\n",
              "      <th>DEATHS</th>\n",
              "      <th>Strength of Gun Laws (out of 100 points)</th>\n",
              "      <th>Gun Deaths per 100,000 Residents</th>\n",
              "      <th>Likert Category</th>\n",
              "    </tr>\n",
              "  </thead>\n",
              "  <tbody>\n",
              "    <tr>\n",
              "      <th>0</th>\n",
              "      <td>AL</td>\n",
              "      <td>26.4</td>\n",
              "      <td>1315</td>\n",
              "      <td>12.5</td>\n",
              "      <td>25.9</td>\n",
              "      <td>Very Lax</td>\n",
              "    </tr>\n",
              "    <tr>\n",
              "      <th>1</th>\n",
              "      <td>AK</td>\n",
              "      <td>25.2</td>\n",
              "      <td>182</td>\n",
              "      <td>9.0</td>\n",
              "      <td>22.7</td>\n",
              "      <td>Very Lax</td>\n",
              "    </tr>\n",
              "    <tr>\n",
              "      <th>2</th>\n",
              "      <td>AZ</td>\n",
              "      <td>18.3</td>\n",
              "      <td>1365</td>\n",
              "      <td>8.5</td>\n",
              "      <td>20.5</td>\n",
              "      <td>Very Lax</td>\n",
              "    </tr>\n",
              "    <tr>\n",
              "      <th>3</th>\n",
              "      <td>AR</td>\n",
              "      <td>23.3</td>\n",
              "      <td>698</td>\n",
              "      <td>3.0</td>\n",
              "      <td>22.1</td>\n",
              "      <td>Very Lax</td>\n",
              "    </tr>\n",
              "    <tr>\n",
              "      <th>4</th>\n",
              "      <td>CA</td>\n",
              "      <td>9.0</td>\n",
              "      <td>3576</td>\n",
              "      <td>89.5</td>\n",
              "      <td>8.7</td>\n",
              "      <td>Very Strict</td>\n",
              "    </tr>\n",
              "  </tbody>\n",
              "</table>\n",
              "</div>\n",
              "    <div class=\"colab-df-buttons\">\n",
              "\n",
              "  <div class=\"colab-df-container\">\n",
              "    <button class=\"colab-df-convert\" onclick=\"convertToInteractive('df-70235421-0520-49a6-8d02-bcbe47b53037')\"\n",
              "            title=\"Convert this dataframe to an interactive table.\"\n",
              "            style=\"display:none;\">\n",
              "\n",
              "  <svg xmlns=\"http://www.w3.org/2000/svg\" height=\"24px\" viewBox=\"0 -960 960 960\">\n",
              "    <path d=\"M120-120v-720h720v720H120Zm60-500h600v-160H180v160Zm220 220h160v-160H400v160Zm0 220h160v-160H400v160ZM180-400h160v-160H180v160Zm440 0h160v-160H620v160ZM180-180h160v-160H180v160Zm440 0h160v-160H620v160Z\"/>\n",
              "  </svg>\n",
              "    </button>\n",
              "\n",
              "  <style>\n",
              "    .colab-df-container {\n",
              "      display:flex;\n",
              "      gap: 12px;\n",
              "    }\n",
              "\n",
              "    .colab-df-convert {\n",
              "      background-color: #E8F0FE;\n",
              "      border: none;\n",
              "      border-radius: 50%;\n",
              "      cursor: pointer;\n",
              "      display: none;\n",
              "      fill: #1967D2;\n",
              "      height: 32px;\n",
              "      padding: 0 0 0 0;\n",
              "      width: 32px;\n",
              "    }\n",
              "\n",
              "    .colab-df-convert:hover {\n",
              "      background-color: #E2EBFA;\n",
              "      box-shadow: 0px 1px 2px rgba(60, 64, 67, 0.3), 0px 1px 3px 1px rgba(60, 64, 67, 0.15);\n",
              "      fill: #174EA6;\n",
              "    }\n",
              "\n",
              "    .colab-df-buttons div {\n",
              "      margin-bottom: 4px;\n",
              "    }\n",
              "\n",
              "    [theme=dark] .colab-df-convert {\n",
              "      background-color: #3B4455;\n",
              "      fill: #D2E3FC;\n",
              "    }\n",
              "\n",
              "    [theme=dark] .colab-df-convert:hover {\n",
              "      background-color: #434B5C;\n",
              "      box-shadow: 0px 1px 3px 1px rgba(0, 0, 0, 0.15);\n",
              "      filter: drop-shadow(0px 1px 2px rgba(0, 0, 0, 0.3));\n",
              "      fill: #FFFFFF;\n",
              "    }\n",
              "  </style>\n",
              "\n",
              "    <script>\n",
              "      const buttonEl =\n",
              "        document.querySelector('#df-70235421-0520-49a6-8d02-bcbe47b53037 button.colab-df-convert');\n",
              "      buttonEl.style.display =\n",
              "        google.colab.kernel.accessAllowed ? 'block' : 'none';\n",
              "\n",
              "      async function convertToInteractive(key) {\n",
              "        const element = document.querySelector('#df-70235421-0520-49a6-8d02-bcbe47b53037');\n",
              "        const dataTable =\n",
              "          await google.colab.kernel.invokeFunction('convertToInteractive',\n",
              "                                                    [key], {});\n",
              "        if (!dataTable) return;\n",
              "\n",
              "        const docLinkHtml = 'Like what you see? Visit the ' +\n",
              "          '<a target=\"_blank\" href=https://colab.research.google.com/notebooks/data_table.ipynb>data table notebook</a>'\n",
              "          + ' to learn more about interactive tables.';\n",
              "        element.innerHTML = '';\n",
              "        dataTable['output_type'] = 'display_data';\n",
              "        await google.colab.output.renderOutput(dataTable, element);\n",
              "        const docLink = document.createElement('div');\n",
              "        docLink.innerHTML = docLinkHtml;\n",
              "        element.appendChild(docLink);\n",
              "      }\n",
              "    </script>\n",
              "  </div>\n",
              "\n",
              "\n",
              "<div id=\"df-85a34f6e-d168-4698-b20e-a7b33f130f04\">\n",
              "  <button class=\"colab-df-quickchart\" onclick=\"quickchart('df-85a34f6e-d168-4698-b20e-a7b33f130f04')\"\n",
              "            title=\"Suggest charts\"\n",
              "            style=\"display:none;\">\n",
              "\n",
              "<svg xmlns=\"http://www.w3.org/2000/svg\" height=\"24px\"viewBox=\"0 0 24 24\"\n",
              "     width=\"24px\">\n",
              "    <g>\n",
              "        <path d=\"M19 3H5c-1.1 0-2 .9-2 2v14c0 1.1.9 2 2 2h14c1.1 0 2-.9 2-2V5c0-1.1-.9-2-2-2zM9 17H7v-7h2v7zm4 0h-2V7h2v10zm4 0h-2v-4h2v4z\"/>\n",
              "    </g>\n",
              "</svg>\n",
              "  </button>\n",
              "\n",
              "<style>\n",
              "  .colab-df-quickchart {\n",
              "      --bg-color: #E8F0FE;\n",
              "      --fill-color: #1967D2;\n",
              "      --hover-bg-color: #E2EBFA;\n",
              "      --hover-fill-color: #174EA6;\n",
              "      --disabled-fill-color: #AAA;\n",
              "      --disabled-bg-color: #DDD;\n",
              "  }\n",
              "\n",
              "  [theme=dark] .colab-df-quickchart {\n",
              "      --bg-color: #3B4455;\n",
              "      --fill-color: #D2E3FC;\n",
              "      --hover-bg-color: #434B5C;\n",
              "      --hover-fill-color: #FFFFFF;\n",
              "      --disabled-bg-color: #3B4455;\n",
              "      --disabled-fill-color: #666;\n",
              "  }\n",
              "\n",
              "  .colab-df-quickchart {\n",
              "    background-color: var(--bg-color);\n",
              "    border: none;\n",
              "    border-radius: 50%;\n",
              "    cursor: pointer;\n",
              "    display: none;\n",
              "    fill: var(--fill-color);\n",
              "    height: 32px;\n",
              "    padding: 0;\n",
              "    width: 32px;\n",
              "  }\n",
              "\n",
              "  .colab-df-quickchart:hover {\n",
              "    background-color: var(--hover-bg-color);\n",
              "    box-shadow: 0 1px 2px rgba(60, 64, 67, 0.3), 0 1px 3px 1px rgba(60, 64, 67, 0.15);\n",
              "    fill: var(--button-hover-fill-color);\n",
              "  }\n",
              "\n",
              "  .colab-df-quickchart-complete:disabled,\n",
              "  .colab-df-quickchart-complete:disabled:hover {\n",
              "    background-color: var(--disabled-bg-color);\n",
              "    fill: var(--disabled-fill-color);\n",
              "    box-shadow: none;\n",
              "  }\n",
              "\n",
              "  .colab-df-spinner {\n",
              "    border: 2px solid var(--fill-color);\n",
              "    border-color: transparent;\n",
              "    border-bottom-color: var(--fill-color);\n",
              "    animation:\n",
              "      spin 1s steps(1) infinite;\n",
              "  }\n",
              "\n",
              "  @keyframes spin {\n",
              "    0% {\n",
              "      border-color: transparent;\n",
              "      border-bottom-color: var(--fill-color);\n",
              "      border-left-color: var(--fill-color);\n",
              "    }\n",
              "    20% {\n",
              "      border-color: transparent;\n",
              "      border-left-color: var(--fill-color);\n",
              "      border-top-color: var(--fill-color);\n",
              "    }\n",
              "    30% {\n",
              "      border-color: transparent;\n",
              "      border-left-color: var(--fill-color);\n",
              "      border-top-color: var(--fill-color);\n",
              "      border-right-color: var(--fill-color);\n",
              "    }\n",
              "    40% {\n",
              "      border-color: transparent;\n",
              "      border-right-color: var(--fill-color);\n",
              "      border-top-color: var(--fill-color);\n",
              "    }\n",
              "    60% {\n",
              "      border-color: transparent;\n",
              "      border-right-color: var(--fill-color);\n",
              "    }\n",
              "    80% {\n",
              "      border-color: transparent;\n",
              "      border-right-color: var(--fill-color);\n",
              "      border-bottom-color: var(--fill-color);\n",
              "    }\n",
              "    90% {\n",
              "      border-color: transparent;\n",
              "      border-bottom-color: var(--fill-color);\n",
              "    }\n",
              "  }\n",
              "</style>\n",
              "\n",
              "  <script>\n",
              "    async function quickchart(key) {\n",
              "      const quickchartButtonEl =\n",
              "        document.querySelector('#' + key + ' button');\n",
              "      quickchartButtonEl.disabled = true;  // To prevent multiple clicks.\n",
              "      quickchartButtonEl.classList.add('colab-df-spinner');\n",
              "      try {\n",
              "        const charts = await google.colab.kernel.invokeFunction(\n",
              "            'suggestCharts', [key], {});\n",
              "      } catch (error) {\n",
              "        console.error('Error during call to suggestCharts:', error);\n",
              "      }\n",
              "      quickchartButtonEl.classList.remove('colab-df-spinner');\n",
              "      quickchartButtonEl.classList.add('colab-df-quickchart-complete');\n",
              "    }\n",
              "    (() => {\n",
              "      let quickchartButtonEl =\n",
              "        document.querySelector('#df-85a34f6e-d168-4698-b20e-a7b33f130f04 button');\n",
              "      quickchartButtonEl.style.display =\n",
              "        google.colab.kernel.accessAllowed ? 'block' : 'none';\n",
              "    })();\n",
              "  </script>\n",
              "</div>\n",
              "    </div>\n",
              "  </div>\n"
            ],
            "application/vnd.google.colaboratory.intrinsic+json": {
              "type": "dataframe",
              "variable_name": "merged_df",
              "summary": "{\n  \"name\": \"merged_df\",\n  \"rows\": 50,\n  \"fields\": [\n    {\n      \"column\": \"STATE\",\n      \"properties\": {\n        \"dtype\": \"string\",\n        \"num_unique_values\": 50,\n        \"samples\": [\n          \"IN\",\n          \"SC\",\n          \"NM\"\n        ],\n        \"semantic_type\": \"\",\n        \"description\": \"\"\n      }\n    },\n    {\n      \"column\": \"RATE\",\n      \"properties\": {\n        \"dtype\": \"number\",\n        \"std\": 6.827854116538716,\n        \"min\": 3.4,\n        \"max\": 33.9,\n        \"num_unique_values\": 46,\n        \"samples\": [\n          14.3,\n          25.1,\n          10.3\n        ],\n        \"semantic_type\": \"\",\n        \"description\": \"\"\n      }\n    },\n    {\n      \"column\": \"DEATHS\",\n      \"properties\": {\n        \"dtype\": \"number\",\n        \"std\": 938,\n        \"min\": 64,\n        \"max\": 4613,\n        \"num_unique_values\": 49,\n        \"samples\": [\n          1251,\n          896,\n          793\n        ],\n        \"semantic_type\": \"\",\n        \"description\": \"\"\n      }\n    },\n    {\n      \"column\": \"Strength of Gun Laws (out of 100 points)\",\n      \"properties\": {\n        \"dtype\": \"number\",\n        \"std\": 28.064895641119683,\n        \"min\": 3.0,\n        \"max\": 89.5,\n        \"num_unique_values\": 39,\n        \"samples\": [\n          39.5,\n          18.5,\n          89.5\n        ],\n        \"semantic_type\": \"\",\n        \"description\": \"\"\n      }\n    },\n    {\n      \"column\": \"Gun Deaths per 100,000 Residents\",\n      \"properties\": {\n        \"dtype\": \"number\",\n        \"std\": 6.315140213674384,\n        \"min\": 3.1,\n        \"max\": 29.7,\n        \"num_unique_values\": 47,\n        \"samples\": [\n          10.3,\n          16.1,\n          19.3\n        ],\n        \"semantic_type\": \"\",\n        \"description\": \"\"\n      }\n    },\n    {\n      \"column\": \"Likert Category\",\n      \"properties\": {\n        \"dtype\": \"category\",\n        \"num_unique_values\": 5,\n        \"samples\": [\n          \"Very Strict\",\n          \"Moderate\",\n          \"Strict\"\n        ],\n        \"semantic_type\": \"\",\n        \"description\": \"\"\n      }\n    }\n  ]\n}"
            }
          },
          "metadata": {},
          "execution_count": 8
        }
      ]
    },
    {
      "cell_type": "markdown",
      "source": [
        "I noticed here that there were some redudant or unnecessary columns, and decided to remove them."
      ],
      "metadata": {
        "id": "IILr6-dnstEm"
      }
    },
    {
      "cell_type": "markdown",
      "source": [
        "## 4. Data Visualization\n",
        "\n",
        "#### 4.1 Firearm Mortality vs. Gun Law Strength (2021)"
      ],
      "metadata": {
        "id": "lx-tSVlluBMO"
      }
    },
    {
      "source": [
        "\n",
        "plt.figure(figsize=(10, 6))\n",
        "plt.scatter(x='DEATHS', y='Strength of Gun Laws (out of 100 points)', s=32, alpha=0.8, data=merged_df)\n",
        "\n",
        "for i, row in merged_df.iterrows():\n",
        "    plt.annotate(row['STATE'], (row['DEATHS'], row['Strength of Gun Laws (out of 100 points)']), fontsize=8)\n",
        "\n",
        "plt.gca().spines[['top', 'right']].set_visible(False)\n",
        "plt.title('Firearm Mortality vs. Gun Law Strength')\n",
        "plt.xlabel('Firearm Deaths')\n",
        "plt.ylabel('Gun Law Strength (out of 100 points)')\n",
        "\n",
        "plt.show()\n"
      ],
      "cell_type": "code",
      "execution_count": 9,
      "outputs": [
        {
          "output_type": "display_data",
          "data": {
            "text/plain": [
              "<Figure size 1000x600 with 1 Axes>"
            ],
            "image/png": "[encoded data removed]"
          },
          "metadata": {}
        }
      ],
      "metadata": {
        "colab": {
          "base_uri": "https://localhost:8080/",
          "height": 564
        },
        "id": "JoeJVfBWt5PI",
        "outputId": "18d81f75-fe0d-41e6-8634-bf3728fe727f"
      }
    },
    {
      "cell_type": "markdown",
      "source": [
        "Here, I decided that a scatterplot would best display this type of data. I labeled each data point to represent their repestive states. This graph shows the frequency of firearm deaths with the gun law strength out of 100 points. It does look as though weaker gun law strength results in a high firearm death rate, but we still need to perform analysis testing. In this graph, I did not include the Likert scale yet, as I wanted to show numerically how all the states look compared to one another."
      ],
      "metadata": {
        "id": "iudpB2ktui1v"
      }
    },
    {
      "cell_type": "markdown",
      "source": [
        "#### 4.2 National Gun Law Strength on a Likert Scale (2021)"
      ],
      "metadata": {
        "id": "vhcEKmi7WzpP"
      }
    },
    {
      "source": [
        "\n",
        "category_counts = merged_df.groupby('Likert Category').size()\n",
        "ax = category_counts.plot(kind='barh', color=sns.palettes.mpl_palette('Dark2'))\n",
        "ax.spines[['top', 'right']].set_visible(False)\n",
        "for index, value in enumerate(category_counts):\n",
        "    ax.text(value, index, str(value), ha='left', va='center', fontsize=10)\n",
        "\n",
        "plt.show()\n"
      ],
      "cell_type": "code",
      "execution_count": 10,
      "outputs": [
        {
          "output_type": "display_data",
          "data": {
            "text/plain": [
              "<Figure size 640x480 with 1 Axes>"
            ],
            "image/png": "[encoded data removed]"
          },
          "metadata": {}
        }
      ],
      "metadata": {
        "colab": {
          "base_uri": "https://localhost:8080/",
          "height": 430
        },
        "id": "6E7RL2fhtkYO",
        "outputId": "0cadcd8a-553c-46d6-8d00-dcf726775799"
      }
    },
    {
      "cell_type": "markdown",
      "source": [
        "With this visual, I wanted to demonstrate how many of the states fall into each of the categories from the Likert scale. It looks as though the majority of states in America, 24 to be precise, have 'Very Lax' gun laws. Only 6 states have 'Moderate' strictness when it comes to gun laws, 8 have 'Lax', 6 have 'Strict' and 6 have 'Very Strict'."
      ],
      "metadata": {
        "id": "Zz59DaKJvcUo"
      }
    },
    {
      "cell_type": "markdown",
      "source": [
        "### 4.3 Average Firearm Deathrate vs Likert Scale"
      ],
      "metadata": {
        "id": "MPUlf-iFUA96"
      }
    },
    {
      "cell_type": "code",
      "source": [
        "summary_stats = merged_df.groupby('Likert Category')['RATE'].agg(['mean', 'count'])\n",
        "summary_stats['Likert Category'] = summary_stats.index\n",
        "\n",
        "plt.figure(figsize=(12, 8))\n",
        "sns.scatterplot(data=summary_stats, x='Likert Category', y='mean', size='count', sizes=(50, 200), legend=False)\n",
        "\n",
        "plt.xlabel('Likert Category')\n",
        "plt.ylabel('Average Firearm Death Rate')\n",
        "plt.title('Average Firearm Death Rate by Likert Category')\n",
        "\n",
        "plt.show()\n"
      ],
      "metadata": {
        "colab": {
          "base_uri": "https://localhost:8080/",
          "height": 718
        },
        "id": "soB4bEW_UAij",
        "outputId": "008dd8d6-8805-4ef4-d9d8-261b9e68c7a2"
      },
      "execution_count": 11,
      "outputs": [
        {
          "output_type": "display_data",
          "data": {
            "text/plain": [
              "<Figure size 1200x800 with 1 Axes>"
            ],
            "image/png": "[encoded data removed]"
          },
          "metadata": {}
        }
      ]
    },
    {
      "cell_type": "markdown",
      "source": [
        "Here, I wanted to look at the death rate in combination with the Likert scale which we created as this helps to get a sense of how the Likert Category and Average Firearm Death Rate appear in relation to one another. Once again, the 'Very Lax' category has the highest average death rate, whereas 'Very Strict\" has the lowest.\n"
      ],
      "metadata": {
        "id": "m_trogxoUBXI"
      }
    },
    {
      "cell_type": "markdown",
      "source": [
        "## 5. Data Analysis"
      ],
      "metadata": {
        "id": "smrfh0bCoQuI"
      }
    },
    {
      "cell_type": "markdown",
      "source": [
        "### 5.1 Correlation Analysis"
      ],
      "metadata": {
        "id": "4htqOTlYHW2d"
      }
    },
    {
      "cell_type": "code",
      "source": [
        "gun_law_strength = merged_df['Strength of Gun Laws (out of 100 points)']\n",
        "firearm_death_rate = merged_df['RATE']\n",
        "\n",
        "correlation_coefficient, p_value = pearsonr(gun_law_strength, firearm_death_rate)\n",
        "\n",
        "print(f\"Pearson Correlation Coefficient: {correlation_coefficient}\")\n",
        "print(f\"P-value: {p_value}\")\n",
        "\n",
        "alpha = 0.05  # for significance\n",
        "if p_value < alpha:\n",
        "    print(\"Reject the null hypothesis: There is a significant correlation.\")\n",
        "else:\n",
        "    print(\"Fail to reject the null hypothesis: There is no significant correlation.\")\n"
      ],
      "metadata": {
        "colab": {
          "base_uri": "https://localhost:8080/"
        },
        "id": "hEU2n0fOw1w1",
        "outputId": "8dc46287-110c-4cc0-f750-27907324064e"
      },
      "execution_count": 15,
      "outputs": [
        {
          "output_type": "stream",
          "name": "stdout",
          "text": [
            "Pearson Correlation Coefficient: -0.6292872465189803\n",
            "P-value: 9.83233208206888e-07\n",
            "Reject the null hypothesis: There is a significant correlation.\n"
          ]
        }
      ]
    },
    {
      "cell_type": "markdown",
      "source": [
        "In order to effectively reject or accept either of our hypotheses, we need to do correlation analysis. This will tell us whether or not gun law safety is correlated to the firearm death rate, and how significantly the two are related.\n",
        "\n",
        "After performing the correlation analysis, we get a correlation coefficient of -0.63. This demonstrates a strong and negative correlation between two variables, gun law strength and firearm death rate. Because it is negative, this means that as one variable increases, the other will generally decrease -- in other words, stricter gun laws generally lead to less firearm related deaths, and more relaxed gun laws generally lead to an increase in firearm related deaths. Additionally, the p-value of 9.83e-07 is very small, making this significant. Since the p-value is less than 0.05, we can reject the null hypothesis, and accept the alternative hypothesis. In this case, the evidence suggests that changes in gun law strength are significantly associated with changes in firearm death rates, and that they are both negatively related."
      ],
      "metadata": {
        "id": "arzbN3dmw1Y3"
      }
    },
    {
      "cell_type": "code",
      "source": [],
      "metadata": {
        "id": "KrzZ2TEGIHhY"
      },
      "execution_count": null,
      "outputs": []
    },
    {
      "cell_type": "markdown",
      "source": [
        "## 6. Conclusion"
      ],
      "metadata": {
        "id": "49py_0nvz48N"
      }
    },
    {
      "cell_type": "markdown",
      "source": [
        "In conclusion, the analysis which was performed throughout this project to investigate the relationship between gun law strength and firearm mortality rates in the United States reveals evidence in support of the alternative hypothesis. The alternative hypothesis states that there is a correlation between the two variables. The correlation analysis yielded a negative correlation of -0.63 between gun law strength and firearm death rates. This suggests that states with stricter gun control laws tend to experience lower firearm-related mortality rates. Additionally, the p-value of 9.83e-07 is very small, allowing us to reject the null hypothesis, implying statistically significant correlation between the strength of gun laws and firearm mortality rates. Furthermore, the visualizations demonstrate that states with very lax gun laws tend to have higher average death rates, while those with very strict gun laws exhibit lower average death rates. These findings contribute valuable insights into the potential impact of gun control measures on reducing firearm-related fatalities. In the future, I would perform this analysis with more recent data and even try to observe for any trends across time. We can also, in a historical context, attempt to also determine what changes were going on at the time."
      ],
      "metadata": {
        "id": "NekccUK2VgLY"
      }
    }
  ]
}